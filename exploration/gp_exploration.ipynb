{
 "cells": [
  {
   "cell_type": "code",
   "execution_count": 1,
   "metadata": {},
   "outputs": [],
   "source": [
    "import pandas as pd\n",
    "import numpy as np\n",
    "import matplotlib.pyplot as plt\n",
    "import seaborn as sns\n",
    "from pathlib import Path\n",
    "\n",
    "import sys\n",
    "sys.path.append('/Users/mads/Documents/Python/kermut/')\n",
    "from src.experiments.investigate_correlations import load_protein_mpnn_outputs\n"
   ]
  },
  {
   "cell_type": "code",
   "execution_count": 2,
   "metadata": {},
   "outputs": [],
   "source": [
    "import torch\n",
    "import torch.nn as nn\n",
    "from gpytorch.kernels import Kernel\n",
    "\n",
    "from src.experiments.investigate_correlations import load_protein_mpnn_outputs\n",
    "from src.model.utils import Tokenizer\n",
    "from src import GFP_WT, BLAT_ECOLX_WT"
   ]
  },
  {
   "cell_type": "code",
   "execution_count": 3,
   "metadata": {},
   "outputs": [],
   "source": [
    "from src.model.kernel import KermutJSKernel, KermutJSD_RBFKernel, KermutHellingerKernel, KermutHellingerKernelMulti"
   ]
  },
  {
   "cell_type": "code",
   "execution_count": 7,
   "metadata": {},
   "outputs": [
    {
     "ename": "FileNotFoundError",
     "evalue": "[Errno 2] No such file or directory: '../src/data/interim/GFP/proteinmpnn/conditional_probs_only/GFP.npz'",
     "output_type": "error",
     "traceback": [
      "\u001b[0;31m---------------------------------------------------------------------------\u001b[0m",
      "\u001b[0;31mFileNotFoundError\u001b[0m                         Traceback (most recent call last)",
      "\u001b[1;32m/Users/mads/Documents/Python/kermut/exploration/gp_exploration.ipynb Cell 4\u001b[0m line \u001b[0;36m1\n\u001b[1;32m     <a href='vscode-notebook-cell:/Users/mads/Documents/Python/kermut/exploration/gp_exploration.ipynb#W1sZmlsZQ%3D%3D?line=10'>11</a>\u001b[0m assay_path \u001b[39m=\u001b[39m Path(\u001b[39m'\u001b[39m\u001b[39m../src\u001b[39m\u001b[39m'\u001b[39m, \u001b[39m\"\u001b[39m\u001b[39mdata\u001b[39m\u001b[39m\"\u001b[39m, \u001b[39m\"\u001b[39m\u001b[39mprocessed\u001b[39m\u001b[39m\"\u001b[39m, \u001b[39mf\u001b[39m\u001b[39m\"\u001b[39m\u001b[39m{\u001b[39;00mdataset\u001b[39m}\u001b[39;00m\u001b[39m.tsv\u001b[39m\u001b[39m\"\u001b[39m)\n\u001b[1;32m     <a href='vscode-notebook-cell:/Users/mads/Documents/Python/kermut/exploration/gp_exploration.ipynb#W1sZmlsZQ%3D%3D?line=12'>13</a>\u001b[0m \u001b[39m# Load data\u001b[39;00m\n\u001b[0;32m---> <a href='vscode-notebook-cell:/Users/mads/Documents/Python/kermut/exploration/gp_exploration.ipynb#W1sZmlsZQ%3D%3D?line=13'>14</a>\u001b[0m conditional_probs \u001b[39m=\u001b[39m load_protein_mpnn_outputs(\n\u001b[1;32m     <a href='vscode-notebook-cell:/Users/mads/Documents/Python/kermut/exploration/gp_exploration.ipynb#W1sZmlsZQ%3D%3D?line=14'>15</a>\u001b[0m     conditional_probs_path, as_tensor\u001b[39m=\u001b[39m\u001b[39mTrue\u001b[39;00m\n\u001b[1;32m     <a href='vscode-notebook-cell:/Users/mads/Documents/Python/kermut/exploration/gp_exploration.ipynb#W1sZmlsZQ%3D%3D?line=15'>16</a>\u001b[0m )\n\u001b[1;32m     <a href='vscode-notebook-cell:/Users/mads/Documents/Python/kermut/exploration/gp_exploration.ipynb#W1sZmlsZQ%3D%3D?line=16'>17</a>\u001b[0m df \u001b[39m=\u001b[39m pd\u001b[39m.\u001b[39mread_csv(assay_path, sep\u001b[39m=\u001b[39m\u001b[39m\"\u001b[39m\u001b[39m\\t\u001b[39;00m\u001b[39m\"\u001b[39m)\n\u001b[1;32m     <a href='vscode-notebook-cell:/Users/mads/Documents/Python/kermut/exploration/gp_exploration.ipynb#W1sZmlsZQ%3D%3D?line=17'>18</a>\u001b[0m df \u001b[39m=\u001b[39m df[df[\u001b[39m\"\u001b[39m\u001b[39mn_muts\u001b[39m\u001b[39m\"\u001b[39m] \u001b[39m<\u001b[39m\u001b[39m=\u001b[39m \u001b[39m2\u001b[39m]\n",
      "File \u001b[0;32m~/Documents/Python/kermut/src/experiments/investigate_correlations.py:18\u001b[0m, in \u001b[0;36mload_protein_mpnn_outputs\u001b[0;34m(conditional_probs_path, as_tensor, drop_index)\u001b[0m\n\u001b[1;32m     13\u001b[0m \u001b[39mdef\u001b[39;00m \u001b[39mload_protein_mpnn_outputs\u001b[39m(\n\u001b[1;32m     14\u001b[0m     conditional_probs_path: Path,\n\u001b[1;32m     15\u001b[0m     as_tensor: \u001b[39mbool\u001b[39m \u001b[39m=\u001b[39m \u001b[39mFalse\u001b[39;00m,\n\u001b[1;32m     16\u001b[0m     drop_index: np\u001b[39m.\u001b[39marray \u001b[39m=\u001b[39m \u001b[39mNone\u001b[39;00m,\n\u001b[1;32m     17\u001b[0m ):\n\u001b[0;32m---> 18\u001b[0m     raw_file \u001b[39m=\u001b[39m np\u001b[39m.\u001b[39mload(conditional_probs_path)\n\u001b[1;32m     19\u001b[0m     log_p \u001b[39m=\u001b[39m raw_file[\u001b[39m\"\u001b[39m\u001b[39mlog_p\u001b[39m\u001b[39m\"\u001b[39m]\n\u001b[1;32m     20\u001b[0m     log_p_mean \u001b[39m=\u001b[39m log_p\u001b[39m.\u001b[39mmean(axis\u001b[39m=\u001b[39m\u001b[39m0\u001b[39m)\n",
      "File \u001b[0;32m~/miniconda3/envs/kermut-env/lib/python3.11/site-packages/numpy/lib/npyio.py:405\u001b[0m, in \u001b[0;36mload\u001b[0;34m(file, mmap_mode, allow_pickle, fix_imports, encoding, max_header_size)\u001b[0m\n\u001b[1;32m    403\u001b[0m     own_fid \u001b[39m=\u001b[39m \u001b[39mFalse\u001b[39;00m\n\u001b[1;32m    404\u001b[0m \u001b[39melse\u001b[39;00m:\n\u001b[0;32m--> 405\u001b[0m     fid \u001b[39m=\u001b[39m stack\u001b[39m.\u001b[39menter_context(\u001b[39mopen\u001b[39m(os_fspath(file), \u001b[39m\"\u001b[39m\u001b[39mrb\u001b[39m\u001b[39m\"\u001b[39m))\n\u001b[1;32m    406\u001b[0m     own_fid \u001b[39m=\u001b[39m \u001b[39mTrue\u001b[39;00m\n\u001b[1;32m    408\u001b[0m \u001b[39m# Code to distinguish from NumPy binary files and pickles.\u001b[39;00m\n",
      "\u001b[0;31mFileNotFoundError\u001b[0m: [Errno 2] No such file or directory: '../src/data/interim/GFP/proteinmpnn/conditional_probs_only/GFP.npz'"
     ]
    }
   ],
   "source": [
    "dataset = \"GFP\"\n",
    "conditional_probs_path = Path(\n",
    "    '../',\n",
    "    \"data\",\n",
    "    \"interim\",\n",
    "    dataset,\n",
    "    \"proteinmpnn\",\n",
    "    \"conditional_probs_only\",\n",
    "    f\"{dataset}.npz\",\n",
    ")\n",
    "assay_path = Path('../', \"data\", \"processed\", f\"{dataset}.tsv\")\n",
    "\n",
    "# Load data\n",
    "conditional_probs = load_protein_mpnn_outputs(\n",
    "    conditional_probs_path, as_tensor=True\n",
    ")\n",
    "df = pd.read_csv(assay_path, sep=\"\\t\")\n",
    "df = df[df[\"n_muts\"] <= 2]\n",
    "df = df.iloc[:1000]\n",
    "y = df[\"delta_fitness\"].values\n",
    "y = torch.tensor(y)\n",
    "\n",
    "tokenizer = Tokenizer()\n",
    "sequences = df[\"seq\"]\n",
    "tokens = tokenizer(sequences)\n",
    "wt_sequence = tokenizer([GFP_WT])[0]\n",
    "\n",
    "model_kwargs = {\n",
    "    \"conditional_probs\": conditional_probs,\n",
    "    \"wt_sequence\": wt_sequence,\n",
    "    \"p_B\": 15.0,\n",
    "    \"p_Q\": 5.0,\n",
    "    \"theta\": 1.0,\n",
    "    \"gamma\": 1.0,\n",
    "    \"learnable_transform\": False,\n",
    "    \"learnable_hellinger\": False,\n",
    "}\n",
    "\n",
    "kernel = KermutHellingerKernelMulti(**model_kwargs)\n",
    "\n",
    "# FOR PROFILING\n",
    "# from torch.profiler import profile, record_function, ProfilerActivity\n",
    "\n",
    "# with profile(\n",
    "#     activities=[ProfilerActivity.CPU], profile_memory=True, record_shapes=True\n",
    "# ) as prof:\n",
    "#     with record_function(\"model_inference\"):\n",
    "out = kernel(tokens)  # IF PROFILING, INDENT\n",
    "\n",
    "# print(prof.key_averages().table(sort_by=\"cpu_time_total\", row_limit=10))\n",
    "# print(prof.key_averages().table(sort_by=\"self_cpu_memory_usage\", row_limit=10))"
   ]
  },
  {
   "cell_type": "code",
   "execution_count": null,
   "metadata": {},
   "outputs": [],
   "source": []
  }
 ],
 "metadata": {
  "kernelspec": {
   "display_name": "kermut-env",
   "language": "python",
   "name": "python3"
  },
  "language_info": {
   "codemirror_mode": {
    "name": "ipython",
    "version": 3
   },
   "file_extension": ".py",
   "mimetype": "text/x-python",
   "name": "python",
   "nbconvert_exporter": "python",
   "pygments_lexer": "ipython3",
   "version": "3.11.5"
  },
  "orig_nbformat": 4
 },
 "nbformat": 4,
 "nbformat_minor": 2
}
